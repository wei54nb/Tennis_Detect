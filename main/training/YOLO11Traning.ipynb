{
 "cells": [
  {
   "cell_type": "markdown",
   "metadata": {},
   "source": [
    "# YOLO11 Traning"
   ]
  },
  {
   "cell_type": "markdown",
   "metadata": {},
   "source": [
    "## Install requirements"
   ]
  },
  {
   "cell_type": "code",
   "execution_count": null,
   "metadata": {},
   "outputs": [],
   "source": [
    "%pip install -r yolo11/requirements.txt"
   ]
  },
  {
   "cell_type": "code",
   "execution_count": null,
   "metadata": {},
   "outputs": [],
   "source": [
    "from roboflow import Roboflow\n",
    "from ultralytics import YOLO\n",
    "import torch\n",
    "import os"
   ]
  },
  {
   "cell_type": "code",
   "execution_count": null,
   "metadata": {},
   "outputs": [],
   "source": [
    "train_params = {}"
   ]
  },
  {
   "cell_type": "markdown",
   "metadata": {},
   "source": [
    "## Prepare dataset"
   ]
  },
  {
   "cell_type": "markdown",
   "metadata": {},
   "source": [
    "Replace these lines with your own credentials. For example:\n",
    "\n",
    "rf = Roboflow(api_key='YOUR_API_KEY')\n",
    "\n",
    "project = rf.workspace('YOUR_WORKSPACE').project('YOUR_PROJECT')\n",
    "\n",
    "version = project.version(YOUR_VERSION_NUMBER)\n",
    "\n",
    "dataset = version.download('YOUR_DATASET_FORMAT')"
   ]
  },
  {
   "cell_type": "code",
   "execution_count": null,
   "metadata": {},
   "outputs": [],
   "source": [
    "rf = Roboflow(api_key=\"00000000000000000000\")\n",
    "project = rf.workspace(\"team\").project(\"project\")\n",
    "version = project.version(0)\n",
    "dataset = version.download(\"format:yolo11\")"
   ]
  },
  {
   "cell_type": "code",
   "execution_count": null,
   "metadata": {},
   "outputs": [],
   "source": [
    "dataPath = dataset.location + '/data.yaml'\n",
    "train_params.update({'data': dataPath})"
   ]
  },
  {
   "cell_type": "markdown",
   "metadata": {},
   "source": [
    "## Training"
   ]
  },
  {
   "cell_type": "markdown",
   "metadata": {},
   "source": [
    "### Set device"
   ]
  },
  {
   "cell_type": "code",
   "execution_count": null,
   "metadata": {},
   "outputs": [],
   "source": [
    "if not torch.cuda.is_available():\n",
    "    device = 'cpu'\n",
    "elif torch.cuda.device_count() == 1:\n",
    "    device = 'cuda'\n",
    "else:\n",
    "    device = list(range(torch.cuda.device_count()))\n",
    "\n",
    "train_params.update({'device': device})\n",
    "print(\"使用的 device:\", device)"
   ]
  },
  {
   "cell_type": "markdown",
   "metadata": {},
   "source": [
    "### Set model"
   ]
  },
  {
   "cell_type": "markdown",
   "metadata": {},
   "source": [
    "```user_model_path = \"path/to/last.pt\"```"
   ]
  },
  {
   "cell_type": "code",
   "execution_count": null,
   "metadata": {},
   "outputs": [],
   "source": [
    "user_model_path = \"\""
   ]
  },
  {
   "cell_type": "code",
   "execution_count": null,
   "metadata": {},
   "outputs": [],
   "source": [
    "if os.path.exists(user_model_path):\n",
    "    model_path = user_model_path\n",
    "    train_params.update({'resume': True})\n",
    "else:\n",
    "    print(f\"Specified model path '{user_model_path}' does not exist. Using default model 'yolo11n.pt'.\")\n",
    "    model_path = 'yolo11n.pt'\n",
    "model = YOLO(model_path)"
   ]
  },
  {
   "cell_type": "markdown",
   "metadata": {},
   "source": [
    "### Set arguments"
   ]
  },
  {
   "cell_type": "markdown",
   "metadata": {},
   "source": [
    "<details>\n",
    "<summary>Click to expand the configuration table</summary>\n",
    "\n",
    "| Argument       | Type           | Default | Description                                                                                                                                                                                  |\n",
    "|----------------|----------------|---------|----------------------------------------------------------------------------------------------------------------------------------------------------------------------------------------------|\n",
    "| model          | str            | None    | Specifies the model file for training. Accepts a path to either a .pt pretrained model or a .yaml configuration file. Essential for defining the model structure or initializing weights.       |\n",
    "| data           | str            | None    | Path to the dataset configuration file (e.g., coco8.yaml). This file contains dataset-specific parameters, including paths to training and validation data, class names, and number of classes. |\n",
    "| epochs         | int            | 100     | Total number of training epochs. Each epoch represents a full pass over the entire dataset. Adjusting this value can affect training duration and model performance.                          |\n",
    "| time           | float          | None    | Maximum training time in hours. If set, this overrides the epochs argument, allowing training to automatically stop after the specified duration. Useful for time-constrained scenarios.       |\n",
    "| patience       | int            | 100     | Number of epochs to wait without improvement in validation metrics before early stopping the training. Helps prevent overfitting by stopping when performance plateaus.                         |\n",
    "| batch          | int            | 16      | Batch size with three modes: set as an integer (e.g., batch=16), auto mode for 60% GPU memory utilization (batch=-1), or auto mode with a custom fraction (batch=0.70).                         |\n",
    "| imgsz          | int or list    | 640     | Target image size for training. All images are resized to this dimension before feeding into the model. Affects model accuracy and computational complexity.                                   |\n",
    "| save           | bool           | True    | Enables saving of training checkpoints and final model weights. Useful for resuming training or model deployment.                                                                             |\n",
    "| save_period    | int            | -1      | Frequency of saving model checkpoints (in epochs). A value of -1 disables it. Useful for saving interim models during long training sessions.                                                 |\n",
    "| cache          | bool           | False   | Enables caching of dataset images in memory (True/ram), on disk (disk), or disables it (False). Improves training speed but increases memory usage.                                            |\n",
    "| device         | int, str, list | None    | Specifies the device(s) for training: single GPU (0), multiple GPUs (0,1), CPU (cpu), or MPS for Apple silicon (mps).                                                                          |\n",
    "| workers        | int            | 8       | Number of worker threads for data loading (per RANK if multi-GPU). Influences data preprocessing speed, especially useful in multi-GPU setups.                                                |\n",
    "| project        | str            | None    | Name of the project directory where training outputs are saved. Useful for organizing different experiments.                                                                                  |\n",
    "| name           | str            | None    | Name of the training run, creating a subdirectory under project for logs and outputs.                                                                                                         |\n",
    "| exist_ok       | bool           | False   | If True, allows overwriting of an existing project/name directory. Useful for iterative experimentation without manually clearing outputs.                                                    |\n",
    "| pretrained     | bool           | True    | Determines whether to start training from a pretrained model. Can be boolean or string path to specific weights. Enhances training efficiency and performance.                                 |\n",
    "| optimizer      | str            | 'auto'  | Chooses the optimizer (SGD, Adam, AdamW, etc.) or auto for automatic selection. Affects convergence speed and stability.                                                                       |\n",
    "| seed           | int            | 0       | Sets a random seed for training, ensuring reproducibility of results across runs with the same configurations.                                                                                |\n",
    "| deterministic  | bool           | True    | Forces deterministic algorithms, ensuring reproducibility but may affect performance due to restrictions on non-deterministic methods.                                                        |\n",
    "| single_cls     | bool           | False   | Treats all classes in multi-class datasets as a single class. Useful for binary classification or object presence detection.                                                                   |\n",
    "| classes        | list[int]      | None    | Specifies class IDs to train on. Useful for filtering out certain classes during training.                                                                                                    |\n",
    "| rect           | bool           | False   | Enables rectangular training, optimizing batch composition to minimize padding. May improve efficiency but can affect accuracy.                                                               |\n",
    "| multi_scale    | bool           | False   | Enables multi-scale training, modifying imgsz by up to ±50%. Trains the model for better multi-imgsz performance at inference.                                                                |\n",
    "| cos_lr         | bool           | False   | Uses a cosine learning rate scheduler. Adjusts the LR following a cosine curve, helping with better convergence.                                                                               |\n",
    "| close_mosaic   | int            | 10      | Disables mosaic augmentation in the last N epochs to stabilize training. Set 0 to disable this feature.                                                                                       |\n",
    "| resume         | bool           | False   | Resumes training from the last checkpoint, automatically loading weights, optimizer state, and epoch count.                                                                                   |\n",
    "| amp            | bool           | True    | Enables Automatic Mixed Precision (AMP) training, reducing memory use and often speeding up training without much impact on accuracy.                                                          |\n",
    "| fraction       | float          | 1.0     | Fraction of the dataset to use during training, useful for quick experiments or resource-limited conditions.                                                                                  |\n",
    "| profile        | bool           | False   | Profiles ONNX and TensorRT speeds during training. Useful for deployment optimization.                                                                                                        |\n",
    "| freeze         | int or list    | None    | Freezes the first N layers or a list of layers by index, reducing trainable parameters for fine-tuning/transfer learning.                                                                      |\n",
    "| lr0            | float          | 0.01    | Initial learning rate; e.g., SGD=1E-2, Adam=1E-3. Adjust carefully for stable training and best performance.                                                                                  |\n",
    "| lrf            | float          | 0.01    | Final learning rate as a fraction of lr0, i.e., lr0 × lrf, used with schedulers for LR adjustments over time.                                                                                 |\n",
    "| momentum       | float          | 0.937   | Momentum factor for SGD or beta1 for Adam, influencing how prior gradients affect the current update.                                                                                         |\n",
    "| weight_decay   | float          | 0.0005  | L2 regularization term, penalizing large weights. Helps reduce overfitting.                                                                                                                   |\n",
    "| warmup_epochs  | float          | 3.0     | Number of epochs for learning rate warmup, gradually ramping from a small LR to lr0. Stabilizes early training.                                                                               |\n",
    "| warmup_momentum| float          | 0.8     | Initial momentum for the warmup phase, transitioning to the normal momentum by the end of warmup_epochs.                                                                                     |\n",
    "| warmup_bias_lr | float          | 0.1     | Learning rate for bias parameters during warmup, helping stabilize training in initial epochs.                                                                                                |\n",
    "| box            | float          | 7.5     | Weight of the bounding box regression loss, influencing prediction of object box coordinates.                                                                                               |\n",
    "| cls            | float          | 0.5     | Weight of the classification loss, affecting how the model balances classification accuracy vs. box accuracy.                                                                                 |\n",
    "| dfl            | float          | 1.5     | Weight of the distribution focal loss, used in certain YOLO versions for refined classification.                                                                                             |\n",
    "| pose           | float          | 12.0    | Weight of pose loss for keypoint-based models, emphasizing accuracy of keypoint predictions.                                                                                                 |\n",
    "| kobj           | float          | 2.0     | Weight of keypoint objectness loss in pose estimation tasks. Balances detection confidence with pose accuracy.                                                                               |\n",
    "| nbs            | int            | 64      | Nominal batch size for loss normalization.                                                                                                                                                   |\n",
    "| overlap_mask   | bool           | True    | If True, merges object masks into one when overlapping, with the smaller mask placed over the larger.                                                                                         |\n",
    "| mask_ratio     | int            | 4       | Downsample ratio for segmentation masks. A larger ratio reduces mask resolution, saving memory.                                                                                              |\n",
    "| dropout        | float          | 0.0     | Dropout rate in classification tasks. Helps prevent overfitting by randomly disabling some neurons.                                                                                          |\n",
    "| val            | bool           | True    | Enables validation during training, regularly checking performance on a validation set.                                                                                                      |\n",
    "| plots          | bool           | False   | Generates and saves plots of training/validation metrics and prediction examples, providing visual insights into model performance.                                                          |\n",
    "\n",
    "</details>"
   ]
  },
  {
   "cell_type": "code",
   "execution_count": null,
   "metadata": {},
   "outputs": [],
   "source": [
    "train_params.update({\n",
    "    'epochs': 300,\n",
    "    'imgsz': 640,\n",
    "    \n",
    "})"
   ]
  },
  {
   "cell_type": "code",
   "execution_count": null,
   "metadata": {},
   "outputs": [],
   "source": [
    "# start train\n",
    "results = model.train(**train_params)"
   ]
  }
 ],
 "metadata": {
  "kernelspec": {
   "display_name": "Python 3",
   "language": "python",
   "name": "python3"
  },
  "language_info": {
   "codemirror_mode": {
    "name": "ipython",
    "version": 3
   },
   "file_extension": ".py",
   "mimetype": "text/x-python",
   "name": "python",
   "nbconvert_exporter": "python",
   "pygments_lexer": "ipython3",
   "version": "3.10.12"
  }
 },
 "nbformat": 4,
 "nbformat_minor": 2
}
